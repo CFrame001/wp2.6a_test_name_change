{
 "cells": [
  {
   "cell_type": "code",
   "execution_count": 44,
   "outputs": [
    {
     "name": "stdout",
     "output_type": "stream",
     "text": [
      "['ISRIStemmer', 'LancasterStemmer', 'PorterStemmer', 'RSLPStemmer', 'RegexpStemmer', 'SnowballStemmer']\n",
      "['WordNetLemmatizer']\n"
     ]
    }
   ],
   "source": [
    "import nltk\n",
    "import pandas as pd\n",
    "\n",
    "stemmer_names = [func for func in dir(nltk) if func.endswith('Stemmer')]\n",
    "print(stemmer_names)\n",
    "lemmatizer_names = [func for func in dir(nltk) if func.endswith('Lemmatizer')]\n",
    "print(lemmatizer_names)"
   ],
   "metadata": {
    "collapsed": false,
    "pycharm": {
     "name": "#%%\n"
    }
   }
  },
  {
   "cell_type": "code",
   "execution_count": 45,
   "outputs": [],
   "source": [
    "words = ['describes', 'describe', 'descriptor', 'description']\n",
    "isri = nltk.ISRIStemmer()\n",
    "lancaster = nltk.LancasterStemmer()\n",
    "porter = nltk.PorterStemmer()\n",
    "rslp = nltk.RSLPStemmer()\n",
    "snowball = nltk.SnowballStemmer('english')\n",
    "\n",
    "stemmers = [lancaster, porter, rslp, snowball]\n",
    "\n",
    "wordnet = nltk.WordNetLemmatizer()"
   ],
   "metadata": {
    "collapsed": false,
    "pycharm": {
     "name": "#%%\n"
    }
   }
  },
  {
   "cell_type": "markdown",
   "source": [
    "## Compare all stemmers of interest"
   ],
   "metadata": {
    "collapsed": false,
    "pycharm": {
     "name": "#%% md\n"
    }
   }
  },
  {
   "cell_type": "code",
   "execution_count": 48,
   "outputs": [
    {
     "name": "stdout",
     "output_type": "stream",
     "text": [
      "[['describes', 'describ', 'describ', 'describ', 'describ', 'describes'], ['describe', 'describ', 'describ', 'describ', 'describ', 'describe'], ['descriptor', 'describ', 'descriptor', 'descrip', 'descriptor', 'descriptor'], ['description', 'describ', 'descript', 'description', 'descript', 'description']]\n"
     ]
    }
   ],
   "source": [
    "# Build list of stemmed words\n",
    "# Using list first is computationally cheaper than DataFrame\n",
    "ls = []\n",
    "for word in words:\n",
    "    new_row = [stemmer.stem(word) for stemmer in stemmers]\n",
    "    new_row.append(wordnet.lemmatize(word))\n",
    "    # Prepend word\n",
    "    new_row.insert(0, word)\n",
    "    ls.append(new_row)\n",
    "print(ls)"
   ],
   "metadata": {
    "collapsed": false,
    "pycharm": {
     "name": "#%%\n"
    }
   }
  },
  {
   "cell_type": "code",
   "execution_count": 49,
   "outputs": [
    {
     "name": "stdout",
     "output_type": "stream",
     "text": [
      "          Word LancasterStemmer PorterStemmer  RSLPStemmer SnowballStemmer  \\\n",
      "0    describes          describ       describ      describ         describ   \n",
      "1     describe          describ       describ      describ         describ   \n",
      "2   descriptor          describ    descriptor      descrip      descriptor   \n",
      "3  description          describ      descript  description        descript   \n",
      "\n",
      "  WordNetLemmatizer  \n",
      "0         describes  \n",
      "1          describe  \n",
      "2        descriptor  \n",
      "3       description  \n"
     ]
    }
   ],
   "source": [
    "columns = [stemmer.__class__.__name__ for stemmer in stemmers]\n",
    "columns.append('WordNetLemmatizer')\n",
    "columns.insert(0, 'Word')\n",
    "df = pd.DataFrame(ls, columns=columns)\n",
    "print(df)"
   ],
   "metadata": {
    "collapsed": false,
    "pycharm": {
     "name": "#%%\n"
    }
   }
  },
  {
   "cell_type": "markdown",
   "source": [
    "Result shows that Lancaster produces desired output i.e. the same stem for all supplied variations.\n"
   ],
   "metadata": {
    "collapsed": false,
    "pycharm": {
     "name": "#%% md\n"
    }
   }
  }
 ],
 "metadata": {
  "kernelspec": {
   "display_name": "Python 3",
   "language": "python",
   "name": "python3"
  },
  "language_info": {
   "codemirror_mode": {
    "name": "ipython",
    "version": 2
   },
   "file_extension": ".py",
   "mimetype": "text/x-python",
   "name": "python",
   "nbconvert_exporter": "python",
   "pygments_lexer": "ipython2",
   "version": "2.7.6"
  },
  "pycharm": {
   "stem_cell": {
    "cell_type": "raw",
    "source": [
     "### Test stemmers\n"
    ],
    "metadata": {
     "collapsed": false
    }
   }
  }
 },
 "nbformat": 4,
 "nbformat_minor": 0
}